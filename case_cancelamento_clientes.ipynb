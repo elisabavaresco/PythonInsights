{
 "cells": [
  {
   "cell_type": "markdown",
   "metadata": {},
   "source": [
    "# Entendendo o passo a passo para resolução do case\n",
    "\n",
    "Passo 1: Importar a base de dados\n",
    "\n",
    "Passo 2: Visualizar a base de dados \n",
    "    * entender as informações\n",
    "    * encontrar problemas\n",
    "\n",
    "Passo 3: Resolver os probelmas da base de dados\n",
    "\n",
    "Passo 4: Análise inicial\n",
    "    * quantos clientes cancelaram?\n",
    "    * qual a % de clientes que cancelou? ...\n",
    "\n",
    "Passo 5: Análise detalhada - entendendo a causa do cancelamento dos clientes"
   ]
  },
  {
   "cell_type": "markdown",
   "metadata": {},
   "source": [
    "# Passo 1: Importar a base de dados"
   ]
  },
  {
   "cell_type": "code",
   "execution_count": null,
   "metadata": {},
   "outputs": [
    {
     "name": "stdout",
     "output_type": "stream",
     "text": [
      "        CustomerID  idade    sexo  tempo_como_cliente  frequencia_uso  \\\n",
      "0              2.0   30.0  Female                39.0            14.0   \n",
      "1              3.0   65.0  Female                49.0             1.0   \n",
      "2              4.0   55.0  Female                14.0             4.0   \n",
      "3              5.0   58.0    Male                38.0            21.0   \n",
      "4              6.0   23.0    Male                32.0            20.0   \n",
      "...            ...    ...     ...                 ...             ...   \n",
      "881661    449995.0   42.0    Male                54.0            15.0   \n",
      "881662    449996.0   25.0  Female                 8.0            13.0   \n",
      "881663    449997.0   26.0    Male                35.0            27.0   \n",
      "881664    449998.0   28.0    Male                55.0            14.0   \n",
      "881665    449999.0   31.0    Male                48.0            20.0   \n",
      "\n",
      "        ligacoes_callcenter  dias_atraso assinatura duracao_contrato  \\\n",
      "0                       5.0         18.0   Standard           Annual   \n",
      "1                      10.0          8.0      Basic          Monthly   \n",
      "2                       6.0         18.0      Basic        Quarterly   \n",
      "3                       7.0          7.0   Standard          Monthly   \n",
      "4                       5.0          8.0      Basic          Monthly   \n",
      "...                     ...          ...        ...              ...   \n",
      "881661                  1.0          3.0    Premium           Annual   \n",
      "881662                  1.0         20.0    Premium           Annual   \n",
      "881663                  1.0          5.0   Standard        Quarterly   \n",
      "881664                  2.0          0.0   Standard        Quarterly   \n",
      "881665                  1.0         14.0    Premium        Quarterly   \n",
      "\n",
      "        total_gasto  meses_ultima_interacao  cancelou  \n",
      "0            932.00                    17.0       1.0  \n",
      "1            557.00                     6.0       1.0  \n",
      "2            185.00                     3.0       1.0  \n",
      "3            396.00                    29.0       1.0  \n",
      "4            617.00                    20.0       1.0  \n",
      "...             ...                     ...       ...  \n",
      "881661       716.38                     8.0       0.0  \n",
      "881662       745.38                     2.0       0.0  \n",
      "881663       977.31                     9.0       0.0  \n",
      "881664       602.55                     2.0       0.0  \n",
      "881665       567.77                    21.0       0.0  \n",
      "\n",
      "[881666 rows x 12 columns]\n"
     ]
    }
   ],
   "source": [
    "\"\"\"\"\n",
    "Extenções utilizadas nesse projeto: pandas, openpyxl, numpy, nbformat, ploty e ipykernel\n",
    "em arquivos .ipynb podemos instalar as extenções dessa forma:\n",
    "# !pip install pandas openpyxl numpy nbformat ploty ipykernel\n",
    "pandas -> para ler base de dados\n",
    "plotly -> para criar gráficos dinâmicos\n",
    "outros -> auxiliam as extensões listadas acima\n",
    "\"\"\"\n",
    "\n",
    "import pandas\n",
    "\n",
    "tabela = pandas.read_csv('cancelamentos.csv')\n",
    "print(tabela)"
   ]
  }
 ],
 "metadata": {
  "kernelspec": {
   "display_name": "Python 3",
   "language": "python",
   "name": "python3"
  },
  "language_info": {
   "codemirror_mode": {
    "name": "ipython",
    "version": 3
   },
   "file_extension": ".py",
   "mimetype": "text/x-python",
   "name": "python",
   "nbconvert_exporter": "python",
   "pygments_lexer": "ipython3",
   "version": "3.13.0"
  }
 },
 "nbformat": 4,
 "nbformat_minor": 2
}
