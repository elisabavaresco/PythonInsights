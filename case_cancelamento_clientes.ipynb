{
 "cells": [
  {
   "cell_type": "markdown",
   "metadata": {},
   "source": [
    "# Entendendo o passo a passo para resolução do case\n",
    "\n",
    "Passo 1: Importar a base de dados\n",
    "\n",
    "Passo 2: Visualizar a base de dados \n",
    "    * entender as informações\n",
    "    * encontrar problemas\n",
    "\n",
    "Passo 3: Resolver os probelmas da base de dados\n",
    "\n",
    "Passo 4: Análise inicial\n",
    "    * quantos clientes cancelaram?\n",
    "    * qual a % de clientes que cancelou? ...\n",
    "\n",
    "Passo 5: Análise detalhada - entendendo a causa do cancelamento dos clientes"
   ]
  }
 ],
 "metadata": {
  "language_info": {
   "name": "python"
  }
 },
 "nbformat": 4,
 "nbformat_minor": 2
}
